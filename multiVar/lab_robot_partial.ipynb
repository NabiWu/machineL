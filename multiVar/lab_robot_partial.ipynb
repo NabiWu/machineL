{
 "cells": [
  {
   "cell_type": "markdown",
   "metadata": {},
   "source": [
    "# Multiple Linear Regression for Robot Calibration\n",
    "\n",
    "In this lab, we will illustrate the use of multiple linear regression for calibrating robot control.  In addition to reviewing the concepts in the multiple linear regression demo `demo1_diabetes.ipynb`, you will see how to use multiple linear regression for time series data -- an important concept in dynamical systems such as robotics.\n",
    "\n",
    "The robot data for the lab is taken generously from the TU Dortmund's [Multiple Link Robot Arms Project](http://www.rst.e-technik.tu-dortmund.de/cms/en/research/robotics/TUDOR_engl/index.html).  As part of the project, they have created an excellent public dataset: [MERIt](http://www.rst.e-technik.tu-dortmund.de/cms/en/research/robotics/TUDOR_engl/index.html#h3MERIt) -- A Multi-Elastic-Link Robot Identification Dataset that can be used for understanding robot dynamics.  The data is from a three link robot:\n",
    "\n",
    "<img src=\"http://www.rst.e-technik.tu-dortmund.de/cms/Medienpool/redaktionelleBilder/Forschung/Schwerpunkte/TUDOR_engl/TUDORBild.png\" height=\"200\" width=\"200\">\n",
    "\n",
    "\n",
    "We will focus on the simple task of predicting the current **electrical draw** into one of the robot's joint motors as a function of the robot motion. This is just one of many parameters that you might want to build an ML model to predict.  For example, it might be part of a larger system to predict the overall robot power consumption."
   ]
  },
  {
   "cell_type": "markdown",
   "metadata": {},
   "source": [
    "## Load and Visualize the Data\n",
    "First, import the modules we will need."
   ]
  },
  {
   "cell_type": "code",
   "execution_count": 1,
   "metadata": {},
   "outputs": [],
   "source": [
    "import pandas as pd\n",
    "import numpy as np\n",
    "import matplotlib\n",
    "import matplotlib.pyplot as plt\n",
    "%matplotlib inline"
   ]
  },
  {
   "cell_type": "markdown",
   "metadata": {},
   "source": [
    "The full MERIt dataset can be obtained from the [MERIt site](http://www.rst.e-technik.tu-dortmund.de/cms/en/research/robotics/TUDOR_engl/index.html#h3MERIt).  But, this dataset is large.  Included in this repository are two of the ten experiments.  Each experiments corresonds to 80 seconds of recorded motion.  We will use the following files:\n",
    "* [exp1.csv](./exp1.csv) for training\n",
    "* [exp2.csv](./exp2.csv) for test\n",
    "\n",
    "Below, we have supplied the column headers in the `names` array.  Use the `pd.read_csv` command to load the data.  You can review the `demo_auto_mpg.ipnyb` demo for examples of using the `pd.read_csv` command."
   ]
  },
  {
   "cell_type": "code",
   "execution_count": 2,
   "metadata": {},
   "outputs": [],
   "source": [
    "col =[\n",
    "    't',                                  # Time (secs)\n",
    "    'q1', 'q2', 'q3',                     # Joint angle   (rads)\n",
    "    'dq1', 'dq2', 'dq3',                  # Joint velocity (rads/sec)\n",
    "    'I1', 'I2', 'I3',                     # Motor current (amp)\n",
    "    'eps21', 'eps22', 'eps31', 'eps32',   # Strain gauge measurements ($\\mu$m /m )\n",
    "    'ddq1', 'ddq2', 'ddq3'                # Joint accelerations (rad/sec^2)\n",
    "]\n",
    "# TODO \n",
    "# dftrain = pd.read_csv(...)\n",
    "# dftrain = pd.read_csv(...)\n",
    "dftrain = pd.read_csv('exp1.csv', header=None, delim_whitespace=False,names=col,na_values='?')\n",
    "dftest = pd.read_csv('exp2.csv', header=None, delim_whitespace=False,names=col,na_values='?')"
   ]
  },
  {
   "cell_type": "markdown",
   "metadata": {},
   "source": [
    "Print the first six lines of the test and train dataframes and manually check that they match the first rows of the csv file."
   ]
  },
  {
   "cell_type": "code",
   "execution_count": 3,
   "metadata": {},
   "outputs": [
    {
     "data": {
      "text/html": [
       "<div>\n",
       "<style scoped>\n",
       "    .dataframe tbody tr th:only-of-type {\n",
       "        vertical-align: middle;\n",
       "    }\n",
       "\n",
       "    .dataframe tbody tr th {\n",
       "        vertical-align: top;\n",
       "    }\n",
       "\n",
       "    .dataframe thead th {\n",
       "        text-align: right;\n",
       "    }\n",
       "</style>\n",
       "<table border=\"1\" class=\"dataframe\">\n",
       "  <thead>\n",
       "    <tr style=\"text-align: right;\">\n",
       "      <th></th>\n",
       "      <th>t</th>\n",
       "      <th>q1</th>\n",
       "      <th>q2</th>\n",
       "      <th>q3</th>\n",
       "      <th>dq1</th>\n",
       "      <th>dq2</th>\n",
       "      <th>dq3</th>\n",
       "      <th>I1</th>\n",
       "      <th>I2</th>\n",
       "      <th>I3</th>\n",
       "      <th>eps21</th>\n",
       "      <th>eps22</th>\n",
       "      <th>eps31</th>\n",
       "      <th>eps32</th>\n",
       "      <th>ddq1</th>\n",
       "      <th>ddq2</th>\n",
       "      <th>ddq3</th>\n",
       "    </tr>\n",
       "  </thead>\n",
       "  <tbody>\n",
       "    <tr>\n",
       "      <td>0</td>\n",
       "      <td>0.00</td>\n",
       "      <td>-0.000007</td>\n",
       "      <td>2.4958</td>\n",
       "      <td>-1.1345</td>\n",
       "      <td>-7.882100e-21</td>\n",
       "      <td>-4.940656e-321</td>\n",
       "      <td>3.913100e-29</td>\n",
       "      <td>-0.081623</td>\n",
       "      <td>-0.40812</td>\n",
       "      <td>-0.30609</td>\n",
       "      <td>-269.25</td>\n",
       "      <td>-113.20</td>\n",
       "      <td>3.5918</td>\n",
       "      <td>1.57860</td>\n",
       "      <td>-9.904900e-19</td>\n",
       "      <td>-6.210306e-319</td>\n",
       "      <td>4.917400e-27</td>\n",
       "    </tr>\n",
       "    <tr>\n",
       "      <td>1</td>\n",
       "      <td>0.01</td>\n",
       "      <td>-0.000007</td>\n",
       "      <td>2.4958</td>\n",
       "      <td>-1.1345</td>\n",
       "      <td>-2.258200e-21</td>\n",
       "      <td>-4.940656e-321</td>\n",
       "      <td>2.626200e-31</td>\n",
       "      <td>-0.037411</td>\n",
       "      <td>-0.37241</td>\n",
       "      <td>-0.26698</td>\n",
       "      <td>-270.91</td>\n",
       "      <td>-116.05</td>\n",
       "      <td>1.4585</td>\n",
       "      <td>-1.73980</td>\n",
       "      <td>4.248100e-19</td>\n",
       "      <td>-1.766878e-319</td>\n",
       "      <td>-1.381100e-27</td>\n",
       "    </tr>\n",
       "    <tr>\n",
       "      <td>2</td>\n",
       "      <td>0.02</td>\n",
       "      <td>-0.000007</td>\n",
       "      <td>2.4958</td>\n",
       "      <td>-1.1345</td>\n",
       "      <td>-6.469800e-22</td>\n",
       "      <td>-4.940656e-321</td>\n",
       "      <td>1.762500e-33</td>\n",
       "      <td>-0.066319</td>\n",
       "      <td>-0.40302</td>\n",
       "      <td>-0.31459</td>\n",
       "      <td>-269.25</td>\n",
       "      <td>-112.97</td>\n",
       "      <td>3.5918</td>\n",
       "      <td>0.86753</td>\n",
       "      <td>3.233800e-19</td>\n",
       "      <td>-4.990557e-320</td>\n",
       "      <td>-4.117300e-28</td>\n",
       "    </tr>\n",
       "    <tr>\n",
       "      <td>3</td>\n",
       "      <td>0.03</td>\n",
       "      <td>-0.000007</td>\n",
       "      <td>2.4958</td>\n",
       "      <td>-1.1345</td>\n",
       "      <td>-1.853600e-22</td>\n",
       "      <td>-4.940656e-321</td>\n",
       "      <td>1.182800e-35</td>\n",
       "      <td>-0.068020</td>\n",
       "      <td>-0.43703</td>\n",
       "      <td>-0.28398</td>\n",
       "      <td>-269.97</td>\n",
       "      <td>-114.39</td>\n",
       "      <td>1.6956</td>\n",
       "      <td>-0.08059</td>\n",
       "      <td>1.500500e-19</td>\n",
       "      <td>-1.394253e-320</td>\n",
       "      <td>-1.173100e-28</td>\n",
       "    </tr>\n",
       "    <tr>\n",
       "      <td>4</td>\n",
       "      <td>0.04</td>\n",
       "      <td>-0.000007</td>\n",
       "      <td>2.4958</td>\n",
       "      <td>-1.1345</td>\n",
       "      <td>-5.310600e-23</td>\n",
       "      <td>-4.940656e-321</td>\n",
       "      <td>-5.270900e-03</td>\n",
       "      <td>-0.052715</td>\n",
       "      <td>-0.40472</td>\n",
       "      <td>-0.30779</td>\n",
       "      <td>-269.97</td>\n",
       "      <td>-114.15</td>\n",
       "      <td>3.1177</td>\n",
       "      <td>0.86753</td>\n",
       "      <td>5.932400e-20</td>\n",
       "      <td>-3.581976e-321</td>\n",
       "      <td>-3.770800e-01</td>\n",
       "    </tr>\n",
       "    <tr>\n",
       "      <td>5</td>\n",
       "      <td>0.05</td>\n",
       "      <td>-0.000007</td>\n",
       "      <td>2.4958</td>\n",
       "      <td>-1.1345</td>\n",
       "      <td>-1.521500e-23</td>\n",
       "      <td>-4.940656e-321</td>\n",
       "      <td>3.252600e-04</td>\n",
       "      <td>-0.088425</td>\n",
       "      <td>-0.42342</td>\n",
       "      <td>-0.29589</td>\n",
       "      <td>-269.25</td>\n",
       "      <td>-114.15</td>\n",
       "      <td>2.4066</td>\n",
       "      <td>-0.08059</td>\n",
       "      <td>2.164600e-20</td>\n",
       "      <td>-1.141292e-321</td>\n",
       "      <td>2.930300e-01</td>\n",
       "    </tr>\n",
       "  </tbody>\n",
       "</table>\n",
       "</div>"
      ],
      "text/plain": [
       "      t        q1      q2      q3           dq1            dq2           dq3  \\\n",
       "0  0.00 -0.000007  2.4958 -1.1345 -7.882100e-21 -4.940656e-321  3.913100e-29   \n",
       "1  0.01 -0.000007  2.4958 -1.1345 -2.258200e-21 -4.940656e-321  2.626200e-31   \n",
       "2  0.02 -0.000007  2.4958 -1.1345 -6.469800e-22 -4.940656e-321  1.762500e-33   \n",
       "3  0.03 -0.000007  2.4958 -1.1345 -1.853600e-22 -4.940656e-321  1.182800e-35   \n",
       "4  0.04 -0.000007  2.4958 -1.1345 -5.310600e-23 -4.940656e-321 -5.270900e-03   \n",
       "5  0.05 -0.000007  2.4958 -1.1345 -1.521500e-23 -4.940656e-321  3.252600e-04   \n",
       "\n",
       "         I1       I2       I3   eps21   eps22   eps31    eps32          ddq1  \\\n",
       "0 -0.081623 -0.40812 -0.30609 -269.25 -113.20  3.5918  1.57860 -9.904900e-19   \n",
       "1 -0.037411 -0.37241 -0.26698 -270.91 -116.05  1.4585 -1.73980  4.248100e-19   \n",
       "2 -0.066319 -0.40302 -0.31459 -269.25 -112.97  3.5918  0.86753  3.233800e-19   \n",
       "3 -0.068020 -0.43703 -0.28398 -269.97 -114.39  1.6956 -0.08059  1.500500e-19   \n",
       "4 -0.052715 -0.40472 -0.30779 -269.97 -114.15  3.1177  0.86753  5.932400e-20   \n",
       "5 -0.088425 -0.42342 -0.29589 -269.25 -114.15  2.4066 -0.08059  2.164600e-20   \n",
       "\n",
       "            ddq2          ddq3  \n",
       "0 -6.210306e-319  4.917400e-27  \n",
       "1 -1.766878e-319 -1.381100e-27  \n",
       "2 -4.990557e-320 -4.117300e-28  \n",
       "3 -1.394253e-320 -1.173100e-28  \n",
       "4 -3.581976e-321 -3.770800e-01  \n",
       "5 -1.141292e-321  2.930300e-01  "
      ]
     },
     "execution_count": 3,
     "metadata": {},
     "output_type": "execute_result"
    }
   ],
   "source": [
    "dftrain.head(6)"
   ]
  },
  {
   "cell_type": "code",
   "execution_count": 4,
   "metadata": {},
   "outputs": [
    {
     "data": {
      "text/html": [
       "<div>\n",
       "<style scoped>\n",
       "    .dataframe tbody tr th:only-of-type {\n",
       "        vertical-align: middle;\n",
       "    }\n",
       "\n",
       "    .dataframe tbody tr th {\n",
       "        vertical-align: top;\n",
       "    }\n",
       "\n",
       "    .dataframe thead th {\n",
       "        text-align: right;\n",
       "    }\n",
       "</style>\n",
       "<table border=\"1\" class=\"dataframe\">\n",
       "  <thead>\n",
       "    <tr style=\"text-align: right;\">\n",
       "      <th></th>\n",
       "      <th>t</th>\n",
       "      <th>q1</th>\n",
       "      <th>q2</th>\n",
       "      <th>q3</th>\n",
       "      <th>dq1</th>\n",
       "      <th>dq2</th>\n",
       "      <th>dq3</th>\n",
       "      <th>I1</th>\n",
       "      <th>I2</th>\n",
       "      <th>I3</th>\n",
       "      <th>eps21</th>\n",
       "      <th>eps22</th>\n",
       "      <th>eps31</th>\n",
       "      <th>eps32</th>\n",
       "      <th>ddq1</th>\n",
       "      <th>ddq2</th>\n",
       "      <th>ddq3</th>\n",
       "    </tr>\n",
       "  </thead>\n",
       "  <tbody>\n",
       "    <tr>\n",
       "      <td>0</td>\n",
       "      <td>0.00</td>\n",
       "      <td>-0.000007</td>\n",
       "      <td>1.9024</td>\n",
       "      <td>0.26063</td>\n",
       "      <td>-0.000364</td>\n",
       "      <td>4.940656e-321</td>\n",
       "      <td>0.012596</td>\n",
       "      <td>-0.096928</td>\n",
       "      <td>-0.15134</td>\n",
       "      <td>-0.017005</td>\n",
       "      <td>-130.83</td>\n",
       "      <td>-41.856</td>\n",
       "      <td>-6.3635</td>\n",
       "      <td>5.13410</td>\n",
       "      <td>-0.045712</td>\n",
       "      <td>6.210306e-319</td>\n",
       "      <td>1.582900</td>\n",
       "    </tr>\n",
       "    <tr>\n",
       "      <td>1</td>\n",
       "      <td>0.01</td>\n",
       "      <td>0.000013</td>\n",
       "      <td>1.9024</td>\n",
       "      <td>0.26073</td>\n",
       "      <td>0.000739</td>\n",
       "      <td>4.940656e-321</td>\n",
       "      <td>0.012095</td>\n",
       "      <td>-0.028908</td>\n",
       "      <td>-0.11903</td>\n",
       "      <td>-0.020406</td>\n",
       "      <td>-138.18</td>\n",
       "      <td>-51.100</td>\n",
       "      <td>-14.6590</td>\n",
       "      <td>-5.05820</td>\n",
       "      <td>0.125580</td>\n",
       "      <td>1.766878e-319</td>\n",
       "      <td>0.414660</td>\n",
       "    </tr>\n",
       "    <tr>\n",
       "      <td>2</td>\n",
       "      <td>0.02</td>\n",
       "      <td>-0.000007</td>\n",
       "      <td>1.9024</td>\n",
       "      <td>0.26086</td>\n",
       "      <td>-0.000580</td>\n",
       "      <td>4.940656e-321</td>\n",
       "      <td>0.011596</td>\n",
       "      <td>-0.059517</td>\n",
       "      <td>-0.13944</td>\n",
       "      <td>-0.047614</td>\n",
       "      <td>-139.36</td>\n",
       "      <td>-51.812</td>\n",
       "      <td>-14.6590</td>\n",
       "      <td>-5.29520</td>\n",
       "      <td>-0.130080</td>\n",
       "      <td>4.990557e-320</td>\n",
       "      <td>0.082286</td>\n",
       "    </tr>\n",
       "    <tr>\n",
       "      <td>3</td>\n",
       "      <td>0.03</td>\n",
       "      <td>0.000013</td>\n",
       "      <td>1.9024</td>\n",
       "      <td>0.26099</td>\n",
       "      <td>0.001409</td>\n",
       "      <td>4.940656e-321</td>\n",
       "      <td>0.013933</td>\n",
       "      <td>-0.079923</td>\n",
       "      <td>-0.15304</td>\n",
       "      <td>-0.023807</td>\n",
       "      <td>-135.57</td>\n",
       "      <td>-48.019</td>\n",
       "      <td>-11.3410</td>\n",
       "      <td>-0.79168</td>\n",
       "      <td>0.213010</td>\n",
       "      <td>1.394253e-320</td>\n",
       "      <td>0.190650</td>\n",
       "    </tr>\n",
       "    <tr>\n",
       "      <td>4</td>\n",
       "      <td>0.04</td>\n",
       "      <td>-0.000007</td>\n",
       "      <td>1.9024</td>\n",
       "      <td>0.26110</td>\n",
       "      <td>-0.001273</td>\n",
       "      <td>4.940656e-321</td>\n",
       "      <td>0.010793</td>\n",
       "      <td>-0.025507</td>\n",
       "      <td>-0.12924</td>\n",
       "      <td>-0.006802</td>\n",
       "      <td>-135.81</td>\n",
       "      <td>-49.204</td>\n",
       "      <td>-12.0520</td>\n",
       "      <td>-2.21390</td>\n",
       "      <td>-0.276490</td>\n",
       "      <td>3.581976e-321</td>\n",
       "      <td>-0.170400</td>\n",
       "    </tr>\n",
       "    <tr>\n",
       "      <td>5</td>\n",
       "      <td>0.05</td>\n",
       "      <td>-0.000007</td>\n",
       "      <td>1.9024</td>\n",
       "      <td>0.26124</td>\n",
       "      <td>0.001928</td>\n",
       "      <td>4.940656e-321</td>\n",
       "      <td>0.011915</td>\n",
       "      <td>-0.083324</td>\n",
       "      <td>-0.14964</td>\n",
       "      <td>-0.034010</td>\n",
       "      <td>-139.60</td>\n",
       "      <td>-53.471</td>\n",
       "      <td>-16.0820</td>\n",
       "      <td>-6.95450</td>\n",
       "      <td>0.323560</td>\n",
       "      <td>1.141292e-321</td>\n",
       "      <td>0.031745</td>\n",
       "    </tr>\n",
       "  </tbody>\n",
       "</table>\n",
       "</div>"
      ],
      "text/plain": [
       "      t        q1      q2       q3       dq1            dq2       dq3  \\\n",
       "0  0.00 -0.000007  1.9024  0.26063 -0.000364  4.940656e-321  0.012596   \n",
       "1  0.01  0.000013  1.9024  0.26073  0.000739  4.940656e-321  0.012095   \n",
       "2  0.02 -0.000007  1.9024  0.26086 -0.000580  4.940656e-321  0.011596   \n",
       "3  0.03  0.000013  1.9024  0.26099  0.001409  4.940656e-321  0.013933   \n",
       "4  0.04 -0.000007  1.9024  0.26110 -0.001273  4.940656e-321  0.010793   \n",
       "5  0.05 -0.000007  1.9024  0.26124  0.001928  4.940656e-321  0.011915   \n",
       "\n",
       "         I1       I2        I3   eps21   eps22    eps31    eps32      ddq1  \\\n",
       "0 -0.096928 -0.15134 -0.017005 -130.83 -41.856  -6.3635  5.13410 -0.045712   \n",
       "1 -0.028908 -0.11903 -0.020406 -138.18 -51.100 -14.6590 -5.05820  0.125580   \n",
       "2 -0.059517 -0.13944 -0.047614 -139.36 -51.812 -14.6590 -5.29520 -0.130080   \n",
       "3 -0.079923 -0.15304 -0.023807 -135.57 -48.019 -11.3410 -0.79168  0.213010   \n",
       "4 -0.025507 -0.12924 -0.006802 -135.81 -49.204 -12.0520 -2.21390 -0.276490   \n",
       "5 -0.083324 -0.14964 -0.034010 -139.60 -53.471 -16.0820 -6.95450  0.323560   \n",
       "\n",
       "            ddq2      ddq3  \n",
       "0  6.210306e-319  1.582900  \n",
       "1  1.766878e-319  0.414660  \n",
       "2  4.990557e-320  0.082286  \n",
       "3  1.394253e-320  0.190650  \n",
       "4  3.581976e-321 -0.170400  \n",
       "5  1.141292e-321  0.031745  "
      ]
     },
     "execution_count": 4,
     "metadata": {},
     "output_type": "execute_result"
    }
   ],
   "source": [
    "\n",
    "dftest.head(6)\n"
   ]
  },
  {
   "cell_type": "markdown",
   "metadata": {},
   "source": [
    "From the dataframe `dftrain`, extract the time values into a vector `t` and extract `I2`, the electrical current into the second joint. Place the electrical current in a vector `ytrain` and plot `ytrain` vs. `t`.   Label the axes with the units."
   ]
  },
  {
   "cell_type": "code",
   "execution_count": 5,
   "metadata": {},
   "outputs": [
    {
     "data": {
      "text/plain": [
       "Text(0, 0.5, 'current(A)')"
      ]
     },
     "execution_count": 5,
     "metadata": {},
     "output_type": "execute_result"
    },
    {
     "data": {
      "image/png": "[encoded data removed]",
      "text/plain": [
       "<Figure size 432x288 with 1 Axes>"
      ]
     },
     "metadata": {
      "needs_background": "light"
     },
     "output_type": "display_data"
    }
   ],
   "source": [
    "# TODO\n",
    "# ytrain = ...\n",
    "# t = ...\n",
    "# plt.plot(...)\n",
    "\n",
    "t = dftrain['t']\n",
    "ytrain = dftrain['I2']\n",
    "\n",
    "plt.plot(t, ytrain)\n",
    "plt.xlabel('time(s)')\n",
    "plt.ylabel('current(A)')"
   ]
  },
  {
   "cell_type": "markdown",
   "metadata": {},
   "source": [
    "Use all the samples from the experiment 1 dataset to create the training data matrix:\n",
    "* `Xtrain`:  A matrix of the data with the columns:  `['q2','dq2','eps21', 'eps22', 'eps31', 'eps32','ddq2']`"
   ]
  },
  {
   "cell_type": "code",
   "execution_count": 12,
   "metadata": {},
   "outputs": [],
   "source": [
    "# TODO\n",
    "Xtrain = dftrain[['q2','dq2','eps21', 'eps22', 'eps31', 'eps32','ddq2']]\n"
   ]
  },
  {
   "cell_type": "markdown",
   "metadata": {},
   "source": [
    "## Fit a Linear Model\n",
    "Write an function that fits a linear model given a predictor matrix `X` and a vector of target values `y`. Your linear model should have an intercept. So, for our robot data, which has 7 predictor variables, the output should be a vector `beta` of length 8. The first entry should be the intercept, $\\beta_0$. \n",
    "\n",
    "Your function should find the optimal `beta` to minimize the squared loss. You should do so using the matrix equations discussed in class -- do not use any built in functions from e.g. Scikit Learn."
   ]
  },
  {
   "cell_type": "code",
   "execution_count": 20,
   "metadata": {},
   "outputs": [],
   "source": [
    "def fit_mult_linear(X,y):\n",
    "    \"\"\"\n",
    "    Given matrix of predictors X and target vector y fit for a multiple linear regression model under the squared loss.\n",
    "    \"\"\"\n",
    "    # TODO complete the following code\n",
    "    # beta = ...\n",
    "    nsamp, natt = X.shape\n",
    "    ones = np.ones((nsamp,1))\n",
    "    X_orig = X\n",
    "    X = np.hstack((ones,X_orig))\n",
    "    \n",
    "    Xt = np.transpose(X)\n",
    "    beta=np.dot(np.linalg.inv(np.dot(Xt,X)),np.dot(Xt,y))\n",
    "    \n",
    "    return beta"
   ]
  },
  {
   "cell_type": "markdown",
   "metadata": {},
   "source": [
    "Train the model on the training data."
   ]
  },
  {
   "cell_type": "code",
   "execution_count": 23,
   "metadata": {},
   "outputs": [
    {
     "name": "stdout",
     "output_type": "stream",
     "text": [
      "[-0.08408084  0.06255018  0.20584896  0.00118784  0.00044457 -0.0031362\n",
      "  0.00603298  0.05487097]\n"
     ]
    }
   ],
   "source": [
    "# TODO\n",
    "firstTrainBeta = fit_mult_linear(Xtrain,ytrain)\n",
    "print(firstTrainBeta)"
   ]
  },
  {
   "cell_type": "markdown",
   "metadata": {},
   "source": [
    "Using the trained model, compute `ytrain_pred`, the predicted current.  Plot `ytrain_pred` vs. time `t`.  On the same plot, plot the actual current `ytrain` vs. time `t`.  Create a legend for the plot."
   ]
  },
  {
   "cell_type": "code",
   "execution_count": 38,
   "metadata": {},
   "outputs": [
    {
     "data": {
      "text/plain": [
       "Text(0, 0.5, 'current(A)')"
      ]
     },
     "execution_count": 38,
     "metadata": {},
     "output_type": "execute_result"
    },
    {
     "data": {
      "image/png": "[encoded data removed]",
      "text/plain": [
       "<Figure size 432x288 with 1 Axes>"
      ]
     },
     "metadata": {
      "needs_background": "light"
     },
     "output_type": "display_data"
    }
   ],
   "source": [
    "# TODO\n",
    "# ytrain_pred = ...\n",
    "# plt.plot(...)\n",
    "nsamp, natt = Xtrain.shape\n",
    "ones = np.ones((nsamp,1))\n",
    "X_orig = Xtrain\n",
    "X = np.hstack((ones,X_orig))\n",
    "Xmat=np.matrix(X)\n",
    "\n",
    "ytrain_pred = Xmat*firstTrainBeta.reshape(8,1)\n",
    "line1 = plt.plot(t, ytrain_pred,'-b',label='predict')\n",
    "line2 = plt.plot(t, ytrain,'-r', label='original')\n",
    "plt.legend()\n",
    "plt.xlabel('time(s)')\n",
    "plt.ylabel('current(A)')"
   ]
  },
  {
   "cell_type": "markdown",
   "metadata": {},
   "source": [
    "## Measure the Fit on an Indepedent Dataset\n",
    "\n",
    "Up to now, we have only tested models on the same data on which it was trained.  In general, we need to test on independent data to truly understand a models quality -- otherwise, we might overfit.  For this purpose, consider the data loaded from `exp2.csv`.  Compute the regression predicted values on this data and plot the predicted and actual values over time."
   ]
  },
  {
   "cell_type": "code",
   "execution_count": 39,
   "metadata": {},
   "outputs": [
    {
     "data": {
      "text/plain": [
       "Text(0, 0.5, 'current(A)')"
      ]
     },
     "execution_count": 39,
     "metadata": {},
     "output_type": "execute_result"
    },
    {
     "data": {
      "image/png": "[encoded data removed]",
      "text/plain": [
       "<Figure size 432x288 with 1 Axes>"
      ]
     },
     "metadata": {
      "needs_background": "light"
     },
     "output_type": "display_data"
    }
   ],
   "source": [
    "# TODO\n",
    "newT = dftest['t']\n",
    "Xtest = dftest[['q2','dq2','eps21', 'eps22', 'eps31', 'eps32','ddq2']]\n",
    "ytest = dftest['I2']\n",
    "\n",
    "testBeta = fit_mult_linear(Xtest,ytest)\n",
    "\n",
    "nsamp, natt = Xtest.shape\n",
    "ones = np.ones((nsamp,1))\n",
    "X_orig = Xtest\n",
    "X = np.hstack((ones,X_orig))\n",
    "Xmat=np.matrix(X)\n",
    "\n",
    "ytrain_pred2 = Xmat*firstTrainBeta.reshape(8,1)\n",
    "line1 = plt.plot(newT, ytrain_pred2,'-b',label='predict')\n",
    "line2 = plt.plot(newT, ytest,'-r', label='original')\n",
    "plt.legend()\n",
    "plt.xlabel('time(s)')\n",
    "plt.ylabel('current(A)')"
   ]
  },
  {
   "cell_type": "code",
   "execution_count": null,
   "metadata": {},
   "outputs": [],
   "source": []
  }
 ],
 "metadata": {
  "anaconda-cloud": {},
  "kernelspec": {
   "display_name": "Python 3",
   "language": "python",
   "name": "python3"
  },
  "language_info": {
   "codemirror_mode": {
    "name": "ipython",
    "version": 3
   },
   "file_extension": ".py",
   "mimetype": "text/x-python",
   "name": "python",
   "nbconvert_exporter": "python",
   "pygments_lexer": "ipython3",
   "version": "3.7.4"
  }
 },
 "nbformat": 4,
 "nbformat_minor": 1
}
