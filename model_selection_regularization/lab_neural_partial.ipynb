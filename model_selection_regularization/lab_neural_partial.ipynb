{
 "cells": [
  {
   "cell_type": "markdown",
   "metadata": {},
   "source": [
    "# Lab:  Model Order Selection for Neural Data\n",
    "\n",
    "Machine learning is a key tool for neuroscientists to understand how sensory and motor signals are encoded in the brain.  In addition to improving our scientific understanding of neural phenomena, understanding neural encoding is critical for brain machine interfaces (see. e.g. https://www.youtube.com/watch?v=QRt8QCx3BCo).  In this lab, you will use model selection for performing some simple analysis on real neural signals.  \n",
    "\n",
    "Before doing this lab, you should review the ideas in the polynomial model selection demo.  In addition to the concepts in that demo, you will learn to:\n",
    "* Represent neural time-series data in arrays\n",
    "* Load data from a pickle file\n",
    "* Describe and fit memoryless linear models\n",
    "* Describe and fit linear time-series models with delays\n",
    "* Fit linear models with multiple target outputs\n",
    "* Select the optimal delay via cross-validation"
   ]
  },
  {
   "cell_type": "markdown",
   "metadata": {},
   "source": [
    "## Loading the data\n",
    "\n",
    "The data in this lab comes from neural recordings described in:\n",
    "\n",
    "<a href=\"http://jn.physiology.org/content/106/2/764.short\">\n",
    "Stevenson, Ian H., et al. \"Statistical assessment of the stability of neural movement representations.\" Journal of neurophysiology 106.2 (2011): 764-774</a>\n",
    "\n",
    "Neurons are the basic information processing units in the brain.  Neurons communicate with one another via *spikes* or *action potentials* which are brief events where voltage in the neuron rapidly rises then falls.  These spikes trigger the electro-chemical signals between one neuron and another.  In this experiment, the spikes were recorded from 196 neurons in the primary motor cortex (M1) of a monkey using an electrode array implanted onto the surface of a monkey's brain.  During the recording, the monkey performed several reaching tasks and the position and velocity of the hand was recorded as well.  \n",
    "\n",
    "The goal of the experiment is to try to *read the monkey's brain*:  That is, predict the hand motion from the neural signals from the motor cortex.\n",
    "\n",
    "We first load the key packages."
   ]
  },
  {
   "cell_type": "code",
   "execution_count": 1,
   "metadata": {},
   "outputs": [],
   "source": [
    "import numpy as np\n",
    "import matplotlib.pyplot as plt\n",
    "import pickle\n",
    "\n",
    "from sklearn.linear_model import LinearRegression\n",
    "from sklearn.metrics import r2_score"
   ]
  },
  {
   "cell_type": "markdown",
   "metadata": {},
   "source": [
    "The full data is available on the CRCNS website  http://crcns.org/data-sets/movements/dream.  This website has a large number of datasets and can be used for projects as well.  However, the raw data files can be quite large.  To make the lab easier, the [Kording lab](http://kordinglab.com/) at UPenn has put together an excellent [repository](https://github.com/KordingLab/Neural_Decoding) where they have created simple pre-processed versions of the data.  You can download the file `example_data_s1.pickle` from the [Dropbox link](https://www.dropbox.com/sh/n4924ipcfjqc0t6/AADOv9JYMUBK1tlg9P71gSSra/example_data_s1.pickle?dl=0).  Alternatively, you can directly run the following code.  This may take a little while to download since the file is 26 MB. "
   ]
  },
  {
   "cell_type": "code",
   "execution_count": 2,
   "metadata": {},
   "outputs": [
    {
     "name": "stdout",
     "output_type": "stream",
     "text": [
      "File example_data_s1.pickle is already downloaded\n"
     ]
    }
   ],
   "source": [
    "fn_src = 'https://www.dropbox.com/sh/n4924ipcfjqc0t6/AADOv9JYMUBK1tlg9P71gSSra/example_data_s1.pickle?dl=1'\n",
    "fn_dst = 'example_data_s1.pickle'\n",
    "\n",
    "import os\n",
    "from six.moves import urllib\n",
    "\n",
    "if os.path.isfile(fn_dst):\n",
    "    print('File %s is already downloaded' % fn_dst)\n",
    "else:        \n",
    "    urllib.request.urlretrieve(fn_src, fn_dst)"
   ]
  },
  {
   "cell_type": "markdown",
   "metadata": {},
   "source": [
    "The file is a *pickle* data structure, which is a package to serialize python objects into data files.  Once you have downloaded the file, you can run the following command to retrieve the data from the pickle file."
   ]
  },
  {
   "cell_type": "code",
   "execution_count": 3,
   "metadata": {},
   "outputs": [
    {
     "name": "stdout",
     "output_type": "stream",
     "text": [
      "[[ 1.51037413e-01  1.50912405e-01]\n",
      " [-1.39498351e-01  1.10064258e-01]\n",
      " [-3.55773944e-01 -3.96432704e-01]\n",
      " ...\n",
      " [ 3.19722904e-06 -1.32722761e-06]\n",
      " [ 7.24814520e-07  3.01404519e-06]\n",
      " [ 9.51148351e-07 -1.48976504e-06]]\n"
     ]
    }
   ],
   "source": [
    "with open('example_data_s1.pickle', 'rb') as fp:\n",
    "    X,y = pickle.load(fp)\n",
    "print(y)   "
   ]
  },
  {
   "cell_type": "markdown",
   "metadata": {},
   "source": [
    "The matrix `X` is matrix of spike counts where `X[i,j]` is the number of spikes from neuron `j` in time bin `i`.\n",
    "The matrix `y` has two columns:\n",
    "* `y[i,0] = ` velocity of the monkey's hand in the x-direction\n",
    "* `y[i,1] = ` velocity of the monkey's hand in the y-direction\n",
    "\n",
    "Our goal will be to predict **only** `y[i,0]` from `X`. We could just as easily predict movement in both directions, but this simplifies the lab.  So we reassign:"
   ]
  },
  {
   "cell_type": "code",
   "execution_count": 4,
   "metadata": {},
   "outputs": [],
   "source": [
    "y = y[:,0]\n",
    "\n",
    "#I modify the vector y into a 2D matrix which will helpful for us to use the np.random.permutation\n",
    "y=np.matrix(y)\n",
    "y = y.reshape(61339,1)\n"
   ]
  },
  {
   "cell_type": "markdown",
   "metadata": {},
   "source": [
    "Each time bin represent `tsamp=0.05` seconds of time.  Using `X.shape` and `y.shape` compute and print:\n",
    "* `nt = ` the total number of time bins\n",
    "* `nneuron = ` the total number of neurons\n",
    "* `ttotal = ` total time of the experiment is seconds. "
   ]
  },
  {
   "cell_type": "code",
   "execution_count": 5,
   "metadata": {},
   "outputs": [],
   "source": [
    "tsamp = 0.05  # sampling time in seconds\n",
    "\n",
    "# TODO\n",
    "# nt = ...\n",
    "# nneuron = ..\n",
    "# ttotal = ...\n",
    "nt, nneuron = X.shape \n",
    "ttotal = tsamp * nt\n"
   ]
  },
  {
   "cell_type": "markdown",
   "metadata": {},
   "source": [
    "## Fitting a Memoryless Linear Model\n",
    "\n",
    "Let's first try a simple linear regression model to fit the data. \n",
    "\n",
    "Before doing so, we want to split the data into a training and test set. We will use a 2/3 - 1/3 split, so 1/3 of the data should be used for testing.\n",
    "\n",
    "Let `Xtr,ytr` be the training data set and `Xts,yts` be the test data set. Recall that `ytr` and `yts` should be taken from the *first column of `y` only*. You can use any utility to perform the split that you want, but make sure that it is *random*. `np.random.permutation` might come in handy. "
   ]
  },
  {
   "cell_type": "code",
   "execution_count": 6,
   "metadata": {},
   "outputs": [],
   "source": [
    "# TODO\n",
    "# Xtr, Xts, ytr, yts = ...\n",
    "\n",
    "#We get the size of X matrix\n",
    "rowX, columX = X.shape\n",
    "\n",
    "#We append the y matrix as the last column of X matrix, then randomlize it\n",
    "all_data = np.column_stack((X, y))\n",
    "all_data_random = np.random.permutation(all_data)\n",
    "\n",
    "#Get X and y data which are random\n",
    "yfirst = all_data_random[:,-1]\n",
    "Xfirst = np.delete(all_data_random, -1, axis=1)\n",
    "\n",
    "#Find the index to seperate by 2/3 - 1/3 split\n",
    "nts = rowX // 3\n",
    "ntr = rowX - nts\n",
    "\n",
    "# Testing \n",
    "Xts = Xfirst[:nts]\n",
    "yts = yfirst[:nts]\n",
    "\n",
    "# Traing \n",
    "Xtr = Xfirst[nts:]\n",
    "ytr = yfirst[nts:]\n",
    "\n",
    "\n"
   ]
  },
  {
   "cell_type": "markdown",
   "metadata": {},
   "source": [
    "Now, fit a multiple linear regression model under squared loss using `Xtr,ytr`. Make predictions  `yhat` using `Xts`."
   ]
  },
  {
   "cell_type": "code",
   "execution_count": 7,
   "metadata": {},
   "outputs": [
    {
     "name": "stdout",
     "output_type": "stream",
     "text": [
      "(53,)\n",
      "20446\n"
     ]
    },
    {
     "data": {
      "text/plain": [
       "0.44067173995413467"
      ]
     },
     "execution_count": 7,
     "metadata": {},
     "output_type": "execute_result"
    }
   ],
   "source": [
    "# TODO\n",
    "# yhat = ...\n",
    "\n",
    "# First we modify the Xtr by adding a column of ones as the first column\n",
    "nsamp, natt = Xtr.shape\n",
    "ones = np.ones((nsamp,1))\n",
    "X_orig = Xtr\n",
    "X1 = np.hstack((ones,X_orig))\n",
    "\n",
    "#Using the formula to find the beta vector\n",
    "Xt = np.transpose(X1)\n",
    "beta=np.dot(np.linalg.inv(np.dot(Xt,X1)),np.dot(Xt,ytr))\n",
    "print(beta.shape)\n",
    "\n",
    "#Add a colunm of ones to the Xts matrix\n",
    "nsamp2, natt2 = Xts.shape\n",
    "ones = np.ones((nsamp2,1))\n",
    "X_orig2 = Xts\n",
    "X2 = np.hstack((ones,X_orig2))\n",
    "#Xmat=np.matrix(X2)\n",
    "\n",
    "#Get yhat\n",
    "yhat = X2@beta\n",
    "result1= yhat.shape\n",
    "print(result1[0])\n",
    "\n",
    "from sklearn.metrics import r2_score\n",
    "\n",
    "r2_score(yts, yhat)\n"
   ]
  },
  {
   "cell_type": "markdown",
   "metadata": {},
   "source": [
    "Compare `yhat` to `yts` to measure the **averaged squared loss** (empirical risk) on the test set. Print the output. You should obtain an average loss of around 32 or 33 if you are normalizing by 1/(test set size)."
   ]
  },
  {
   "cell_type": "code",
   "execution_count": 8,
   "metadata": {},
   "outputs": [
    {
     "name": "stdout",
     "output_type": "stream",
     "text": [
      "31.773179086613002\n"
     ]
    }
   ],
   "source": [
    "# TODO\n",
    "\n",
    "loss = np.linalg.norm(np.array(yhat - yts))**2\n",
    "print(loss/20446)"
   ]
  },
  {
   "cell_type": "markdown",
   "metadata": {},
   "source": [
    "It is useful to plot the predicted vs. true values. Plot `yhat` vs. `yts` with a scatter plot and label the axes. If the predicted values exactly matched the targets, we would expect to see a line with slope 1. "
   ]
  },
  {
   "cell_type": "code",
   "execution_count": 9,
   "metadata": {},
   "outputs": [
    {
     "data": {
      "text/plain": [
       "Text(0, 0.5, 'yts')"
      ]
     },
     "execution_count": 9,
     "metadata": {},
     "output_type": "execute_result"
    },
    {
     "data": {
      "image/png": "[encoded data removed]",
      "text/plain": [
       "<Figure size 432x288 with 1 Axes>"
      ]
     },
     "metadata": {
      "needs_background": "light"
     },
     "output_type": "display_data"
    }
   ],
   "source": [
    "# TODO\n",
    "plt.scatter(yhat, yts)\n",
    "plt.grid()\n",
    "plt.xlabel('yhat')\n",
    "plt.ylabel('yts')"
   ]
  },
  {
   "cell_type": "markdown",
   "metadata": {},
   "source": [
    "## Fitting Models with Delay\n",
    "\n",
    "One way we can improve the model accuracy is to used delayed version of the features.  Specifically, the model we used above mapped the features \n",
    "\n",
    "$$\n",
    "\\hat{y}_i = \\sum_{j=1}^{p} X_{i,j}*\\beta_j + \\beta_0\n",
    "$$\n",
    "where $p$ is the number of features and $\\beta$ is our vector of coefficients.  In this model,  $\\hat{y}_i$ at time $i$ was only dependent on the inputs  $X_{i,1,\\ldots,p}$ at time $i$.  In signal processing, this is called a *memoryless* model.  However, in many physical systems, such as those that arise in neuroscience, there is a delay between the inputs $X_{i,1,\\ldots,p}$ and the outputs $y_i$.  For such cases, we can use a model of the form,\n",
    "\n",
    "$$\n",
    "\\hat{y}_{i+d} = \\sum_{m=0}^d \\sum_{j=1}^{p} X_{i+m,j}*\\beta_{j,m} + \\beta_{0}\n",
    "$$\n",
    "    \n",
    "where $\\beta$ is now a 2-dim array of coefficients where $\\beta_{j,m}$ is the influence of the input $X_{i+m,j}$ onto output $y_{i+d}$\n",
    "\n",
    "\n",
    "In signal processing, this model is called an *Finite Impluse Response* filter.  The point is that the output at time `i+d` depends on the inputs at times `i,i+1,...,i+d`.  Hence, it depends on the last `d+1` time steps, not just the most recent time.\n",
    "\n",
    "To translate this into a linear regression problem, complete the following function that creates a new feature and target matrix where:\n",
    "\n",
    "    Xdly[i,:] has entries X[i,:], X[i++1,:], ..., X[i+dly,:]\n",
    "    ydly[i,:] = y[i+dly,:]\n",
    "    \n",
    "Thus, `Xdly[i,:]` contains all the delayed fetaures for the target `y`.  Note that if `X` is `n x p` then `Xdly` will be `n-dly x (dly+1)*p`.  \n"
   ]
  },
  {
   "cell_type": "code",
   "execution_count": 10,
   "metadata": {},
   "outputs": [],
   "source": [
    "def create_dly_data(X,y,dly):\n",
    "    \"\"\"\n",
    "    Create delayed data\n",
    "    \"\"\"    \n",
    "    # TODO\n",
    "    # Xdly = ...\n",
    "    # ydly = ...\n",
    "    r, c = X.shape\n",
    "    Xdly = []\n",
    "    ydly = []\n",
    "    for i in range (r - dly):\n",
    "        newRow = []\n",
    "        for j in range (dly+1):\n",
    "            npData = X[i+j,:]\n",
    "            listData = npData.tolist()\n",
    "            newRow += listData\n",
    "        Xdly.append(newRow)\n",
    "    \n",
    "    for i in range (r - dly):\n",
    "        npData = y[i+dly]\n",
    "        listData = npData.tolist()\n",
    "        ydly.append(listData)\n",
    "        \n",
    "    Xdly = np.array(Xdly)\n",
    "    ydly = np.array(ydly)\n",
    " \n",
    "    return Xdly, ydly\n",
    "\n",
    "# X = np.array([[1,2,3,4], [2,5,7,7],[3,5,8,8]])\n",
    "# y = np.array([[10],[20],[30]])\n",
    "# result = create_dly_data(X,y,2)\n",
    "# print(result[0])\n",
    "# print(result[1])\n",
    "\n"
   ]
  },
  {
   "cell_type": "markdown",
   "metadata": {},
   "source": [
    "Now fit an linear delayed model with `dly=6` additional delay lags.  That is,\n",
    "* Create delayed data `Xdly,ydly=create_dly_data(X,y,6)`\n",
    "* Split the data into training and test as before\n",
    "* Fit the model on the training data\n",
    "* Measure the average squared loss (risk) on the test data\n",
    "\n",
    "You should see a significant improvement from the memoryless model."
   ]
  },
  {
   "cell_type": "code",
   "execution_count": 11,
   "metadata": {},
   "outputs": [
    {
     "name": "stdout",
     "output_type": "stream",
     "text": [
      "(61339, 52)\n",
      "(61339, 1)\n",
      "(61333, 1, 1)\n",
      "(365,)\n",
      "(20444,)\n",
      "17.429916303858963\n"
     ]
    }
   ],
   "source": [
    "# TODO\n",
    "print(X.shape)\n",
    "print(y.shape)\n",
    "Xdly,ydly=create_dly_data(X,y,6)\n",
    "print(ydly.shape)\n",
    "ydly = np.reshape(ydly,(61333,1) ) \n",
    "#We get the size of X matrix\n",
    "rowX, columX = Xdly.shape\n",
    "\n",
    "#We append the y matrix as the last column of X matrix, then randomlize it\n",
    "all_data = np.column_stack((Xdly, ydly))\n",
    "all_data_random = np.random.permutation(all_data)\n",
    "\n",
    "#Get X and y data which are random\n",
    "y6 = all_data_random[:,-1]\n",
    "X6 = np.delete(all_data_random, -1, axis=1)\n",
    "\n",
    "#Find the index to seperate by 2/3 - 1/3 split\n",
    "nts = rowX // 3\n",
    "ntr = rowX - nts\n",
    "\n",
    "# Testing \n",
    "Xts = X6[:nts]\n",
    "yts = y6[:nts]\n",
    "\n",
    "# Traing \n",
    "Xtr = X6[nts:]\n",
    "ytr = y6[nts:]\n",
    "\n",
    "\n",
    "# First we modify the Xtr by adding a column of ones as the first column\n",
    "nsamp, natt = Xtr.shape\n",
    "ones = np.ones((nsamp,1))\n",
    "X_orig = Xtr\n",
    "X1 = np.hstack((ones,X_orig))\n",
    "\n",
    "#Using the formula to find the beta vector\n",
    "Xt = np.transpose(X1)\n",
    "beta=np.dot(np.linalg.inv(np.dot(Xt,X1)),np.dot(Xt,ytr))\n",
    "print(beta.shape)\n",
    "\n",
    "#Add a colunm of ones to the Xts matrix\n",
    "nsamp2, natt2 = Xts.shape\n",
    "ones = np.ones((nsamp2,1))\n",
    "X_orig2 = Xts\n",
    "X2 = np.hstack((ones,X_orig2))\n",
    "#Xmat=np.matrix(X2)\n",
    "\n",
    "#Get yhat\n",
    "yhat = X2@beta\n",
    "print(yhat.shape)\n",
    "\n",
    "loss = np.linalg.norm(np.array(yhat - yts))**2\n",
    "print(loss/20444)\n",
    "\n"
   ]
  },
  {
   "cell_type": "markdown",
   "metadata": {},
   "source": [
    "Plot the predicted vs. true values as before. You should visually see the improvement too."
   ]
  },
  {
   "cell_type": "code",
   "execution_count": 12,
   "metadata": {},
   "outputs": [
    {
     "data": {
      "text/plain": [
       "Text(0, 0.5, 'yts')"
      ]
     },
     "execution_count": 12,
     "metadata": {},
     "output_type": "execute_result"
    },
    {
     "data": {
      "image/png": "[encoded data removed]",
      "text/plain": [
       "<Figure size 432x288 with 1 Axes>"
      ]
     },
     "metadata": {
      "needs_background": "light"
     },
     "output_type": "display_data"
    }
   ],
   "source": [
    "# TODO\n",
    "plt.scatter(yhat, yts)\n",
    "plt.grid()\n",
    "plt.xlabel('yhat')\n",
    "plt.ylabel('yts')"
   ]
  },
  {
   "cell_type": "markdown",
   "metadata": {},
   "source": [
    "## Selecting the Optimal Delay via Model Order Selection\n",
    "\n",
    "In the previous example, we fixed `dly=6`.  We can now select the optimal delay using model order selection.  Since we have a large number of data samples, it turns out that the optimal model order uses a very high delay.  \n",
    "So to save on computation time, we will just do a simple train-test split. We won't do any k-fold cross-validation. "
   ]
  },
  {
   "cell_type": "markdown",
   "metadata": {},
   "source": [
    "We will look at model orders up to `dmax=30`.  Create a delayed dataset, `Xdly,ydly` using `create_dly_data` with `dly=dmax`. Split this data into training and test data as before, with a 2/3 -1/3 split."
   ]
  },
  {
   "cell_type": "code",
   "execution_count": 13,
   "metadata": {},
   "outputs": [],
   "source": [
    "def calculate_loss(X,y):\n",
    "    #We get the size of X matrix\n",
    "    rowX, columX = X.shape\n",
    "\n",
    "    #We append the y matrix as the last column of X matrix, then randomlize it\n",
    "    all_data = np.column_stack((X, y))\n",
    "    all_data_random = np.random.permutation(all_data)\n",
    "\n",
    "    #Get X and y data which are random\n",
    "    yfirst = all_data_random[:,-1]\n",
    "    Xfirst = np.delete(all_data_random, -1, axis=1)\n",
    "\n",
    "    #Find the index to seperate by 2/3 - 1/3 split\n",
    "    nts = rowX // 3\n",
    "    ntr = rowX - nts\n",
    "\n",
    "    # Testing \n",
    "    Xts = Xfirst[:nts]\n",
    "    yts = yfirst[:nts]\n",
    "\n",
    "    # Traing \n",
    "    Xtr = Xfirst[nts:]\n",
    "    ytr = yfirst[nts:]\n",
    "    \n",
    "    # First we modify the Xtr by adding a column of ones as the first column\n",
    "    nsamp, natt = Xtr.shape\n",
    "    ones = np.ones((nsamp,1))\n",
    "    X_orig = Xtr\n",
    "    X1 = np.hstack((ones,X_orig))\n",
    "\n",
    "    #Using the formula to find the beta vector\n",
    "    Xt = np.transpose(X1)\n",
    "    beta=np.dot(np.linalg.inv(np.dot(Xt,X1)),np.dot(Xt,ytr))\n",
    "\n",
    "    #Add a colunm of ones to the Xts matrix\n",
    "    nsamp2, natt2 = Xts.shape\n",
    "    ones = np.ones((nsamp2,1))\n",
    "    X_orig2 = Xts\n",
    "    X2 = np.hstack((ones,X_orig2))\n",
    "    #Xmat=np.matrix(X2)\n",
    "\n",
    "    #Get yhat\n",
    "    yhat = X2@beta\n",
    "    row = yhat.shape\n",
    "    loss = np.linalg.norm(np.array(yhat - yts))**2\n",
    "    avgLoss = loss/row[0]\n",
    "    \n",
    "    return avgLoss\n",
    "    \n",
    "    "
   ]
  },
  {
   "cell_type": "code",
   "execution_count": 14,
   "metadata": {},
   "outputs": [
    {
     "name": "stdout",
     "output_type": "stream",
     "text": [
      "12\n",
      "(61309, 1, 1)\n",
      "(61309, 1)\n",
      "16.358695407916354\n"
     ]
    }
   ],
   "source": [
    "dmax = 30\n",
    "\n",
    "# TODO\n",
    "# Xdly, ydly = ...\n",
    "print(12)\n",
    "Xdly,ydly=create_dly_data(X,y,dmax)\n",
    "print(ydly.shape)\n",
    "ydly = np.reshape(ydly,(61339-dmax,1) )\n",
    "print(ydly.shape)\n",
    "\n",
    "#calculate_loss functon which implemented in previous block helps to split data, train data\n",
    "#and use test data to calculate the average loss\n",
    "dly30Loss = calculate_loss(Xdly,ydly)\n",
    "print(dly30Loss)"
   ]
  },
  {
   "cell_type": "markdown",
   "metadata": {},
   "source": [
    "Implement a loop to test different amounts of delay from 0 to `dmax`. For each delay, you should train on the same train set and compute the average squared loss on the same test set. Store these losses in an array `losses`. Note that this means that, for different delay values you should be using a different **subset of columns** from the `Xdly` matrix you created. You don't want to be creating a new test set for each model order you experiment with.\n",
    "\n",
    "**Note:** This could take a long time (a few minutes) to run! This is a large data set and we are using many features in our multiple linear regression. You might want to test/debug your code with a signficantly small value of `dmax` before doing a final run."
   ]
  },
  {
   "cell_type": "code",
   "execution_count": 15,
   "metadata": {},
   "outputs": [
    {
     "name": "stdout",
     "output_type": "stream",
     "text": [
      "(61339, 52)\n",
      "(61339, 1)\n",
      "(61339, 52)\n",
      "(61339, 1, 1)\n",
      "31.23208869226072\n",
      "(61338, 104)\n",
      "(61338, 1, 1)\n",
      "25.23785140462431\n",
      "(61337, 156)\n",
      "(61337, 1, 1)\n",
      "21.74971297343279\n",
      "(61336, 208)\n",
      "(61336, 1, 1)\n",
      "20.625834634093614\n",
      "(61335, 260)\n",
      "(61335, 1, 1)\n",
      "19.342601043074133\n",
      "(61334, 312)\n",
      "(61334, 1, 1)\n",
      "18.55938512608047\n",
      "(61333, 364)\n",
      "(61333, 1, 1)\n",
      "17.373036291781958\n",
      "(61332, 416)\n",
      "(61332, 1, 1)\n",
      "17.328830672499308\n",
      "(61331, 468)\n",
      "(61331, 1, 1)\n",
      "16.72557111167746\n",
      "(61330, 520)\n",
      "(61330, 1, 1)\n",
      "16.437652347900933\n",
      "(61329, 572)\n",
      "(61329, 1, 1)\n",
      "16.598456842818088\n",
      "(61328, 624)\n",
      "(61328, 1, 1)\n",
      "16.660548866254167\n",
      "(61327, 676)\n",
      "(61327, 1, 1)\n",
      "16.859346205044922\n",
      "(61326, 728)\n",
      "(61326, 1, 1)\n",
      "16.389945825888844\n",
      "(61325, 780)\n",
      "(61325, 1, 1)\n",
      "16.33238756469349\n",
      "(61324, 832)\n",
      "(61324, 1, 1)\n",
      "16.21201561771056\n",
      "(61323, 884)\n",
      "(61323, 1, 1)\n",
      "16.464051328200377\n",
      "(61322, 936)\n",
      "(61322, 1, 1)\n",
      "16.116056396506785\n",
      "(61321, 988)\n",
      "(61321, 1, 1)\n",
      "16.105489319619444\n",
      "(61320, 1040)\n",
      "(61320, 1, 1)\n",
      "16.332771689824263\n",
      "(61319, 1092)\n",
      "(61319, 1, 1)\n",
      "16.396051794634005\n",
      "(61318, 1144)\n",
      "(61318, 1, 1)\n",
      "16.57532105321321\n",
      "(61317, 1196)\n",
      "(61317, 1, 1)\n",
      "15.677961715173513\n",
      "(61316, 1248)\n",
      "(61316, 1, 1)\n",
      "16.47022266230172\n",
      "(61315, 1300)\n",
      "(61315, 1, 1)\n",
      "15.953971468783896\n",
      "(61314, 1352)\n",
      "(61314, 1, 1)\n",
      "16.57012423308049\n",
      "(61313, 1404)\n",
      "(61313, 1, 1)\n",
      "16.48709748833165\n",
      "(61312, 1456)\n",
      "(61312, 1, 1)\n",
      "16.38240002491636\n",
      "(61311, 1508)\n",
      "(61311, 1, 1)\n",
      "16.546189131277334\n",
      "(61310, 1560)\n",
      "(61310, 1, 1)\n",
      "16.206601083097166\n"
     ]
    }
   ],
   "source": [
    "losses = np.zeros(dmax)\n",
    "print(X.shape)\n",
    "print(y.shape)\n",
    "for i in range(0,dmax):\n",
    "    Xdly,ydly = create_dly_data(X,y,i)\n",
    "    print(Xdly.shape)\n",
    "    print(ydly.shape)\n",
    "    ydly = np.reshape(ydly,(61339-i,1))\n",
    "    losses[i] = calculate_loss(Xdly,ydly)\n",
    "    print(losses[i])\n",
    "    \n"
   ]
  },
  {
   "cell_type": "markdown",
   "metadata": {},
   "source": [
    "Which amount of delay lead to the best model fit? Plot losses as a function of `range(0,dmax)` to visualize how generalization of your model changes with increasing complexity"
   ]
  },
  {
   "cell_type": "code",
   "execution_count": 17,
   "metadata": {},
   "outputs": [
    {
     "name": "stdout",
     "output_type": "stream",
     "text": [
      "22\n"
     ]
    },
    {
     "data": {
      "text/plain": [
       "[<matplotlib.lines.Line2D at 0x1a20bfa290>]"
      ]
     },
     "execution_count": 17,
     "metadata": {},
     "output_type": "execute_result"
    },
    {
     "data": {
      "image/png": "[encoded data removed]",
      "text/plain": [
       "<Figure size 432x288 with 1 Axes>"
      ]
     },
     "metadata": {
      "needs_background": "light"
     },
     "output_type": "display_data"
    }
   ],
   "source": [
    "# TODO\n",
    "best_delay = np.argmin(losses)\n",
    "print(best_delay)\n",
    "\n",
    "plt.plot(range(0,dmax),losses)"
   ]
  },
  {
   "cell_type": "code",
   "execution_count": null,
   "metadata": {},
   "outputs": [],
   "source": []
  }
 ],
 "metadata": {
  "kernelspec": {
   "display_name": "Python 3",
   "language": "python",
   "name": "python3"
  },
  "language_info": {
   "codemirror_mode": {
    "name": "ipython",
    "version": 3
   },
   "file_extension": ".py",
   "mimetype": "text/x-python",
   "name": "python",
   "nbconvert_exporter": "python",
   "pygments_lexer": "ipython3",
   "version": "3.7.4"
  }
 },
 "nbformat": 4,
 "nbformat_minor": 2
}
